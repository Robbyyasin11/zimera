{
 "cells": [
  {
   "cell_type": "code",
   "execution_count": null,
   "id": "bf89557e",
   "metadata": {},
   "outputs": [],
   "source": [
    "Selection Sort"
   ]
  },
  {
   "cell_type": "code",
   "execution_count": 3,
   "id": "5f550ce0",
   "metadata": {},
   "outputs": [
    {
     "name": "stdout",
     "output_type": "stream",
     "text": [
      "1 [10, 14, 15, 20]\n",
      "2 [10, 14, 15, 20]\n",
      "3 [10, 14, 15, 20]\n"
     ]
    }
   ],
   "source": [
    "def selection(lis):\n",
    "    iterasi = 0\n",
    "    for i in range(len(lis)-1):\n",
    "        minimal = i\n",
    "        for j in range(i+1,len(lis)):\n",
    "            if lis[j] < lis[minimal]:\n",
    "                minimal = j\n",
    "        iterasi += 1\n",
    "        lis[minimal],lis[i]= lis[i],lis[minimal]\n",
    "        print(iterasi,lis)\n",
    "lis=[20,14,15,10]\n",
    "selection(lis)"
   ]
  },
  {
   "cell_type": "code",
   "execution_count": null,
   "id": "17b2f218",
   "metadata": {},
   "outputs": [],
   "source": [
    "1. Pengecekan dimulai dari data ke-1 sampai data ke-n.\n",
    "2. Tentukan bilangan dengan index terkecil dari data bilangan tersebut.\n",
    "3. Tukar bilangan index terkecil tersebut dengan bilangan pertama (i= 1).\n",
    "4. Ulangi langkah 2 dan 3 dengan bilangan index (i= i+1) hingga data terurut semuanya\n"
   ]
  }
 ],
 "metadata": {
  "kernelspec": {
   "display_name": "Python 3 (ipykernel)",
   "language": "python",
   "name": "python3"
  },
  "language_info": {
   "codemirror_mode": {
    "name": "ipython",
    "version": 3
   },
   "file_extension": ".py",
   "mimetype": "text/x-python",
   "name": "python",
   "nbconvert_exporter": "python",
   "pygments_lexer": "ipython3",
   "version": "3.8.12"
  }
 },
 "nbformat": 4,
 "nbformat_minor": 5
}
