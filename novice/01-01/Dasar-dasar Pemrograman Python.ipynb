{
 "cells": [
  {
   "cell_type": "code",
   "execution_count": 5,
   "id": "b84bf6b3-13fc-4876-ba04-f70f3e6a9aa9",
   "metadata": {},
   "outputs": [
    {
     "name": "stdout",
     "output_type": "stream",
     "text": [
      "Hati2 yaa\n"
     ]
    }
   ],
   "source": [
    "the_world_is_flat = True\n",
    "if the_world_is_flat:\n",
    "    print(\"Hati2 yaa\")"
   ]
  },
  {
   "cell_type": "code",
   "execution_count": null,
   "id": "9e91386a-0b85-4c34-839b-61d2bffde509",
   "metadata": {},
   "outputs": [],
   "source": [
    "Bab 3 komentar"
   ]
  },
  {
   "cell_type": "code",
   "execution_count": 9,
   "id": "5a83e8b3-59e1-42c7-b013-13b1b31a2ea4",
   "metadata": {},
   "outputs": [
    {
     "name": "stdout",
     "output_type": "stream",
     "text": [
      "spam \t text\n"
     ]
    }
   ],
   "source": [
    "# this is the first comment\n",
    "spam = 1  # and this is the second comment\n",
    "          # ... and now a third!\n",
    "text = \"# This is not a comment because it's inside quotes.\"\n",
    "print(f\"spam \\t text\")"
   ]
  },
  {
   "cell_type": "code",
   "execution_count": null,
   "id": "93e605d5-faa3-41af-bd2f-03745985931f",
   "metadata": {},
   "outputs": [],
   "source": [
    "Kalkulator"
   ]
  },
  {
   "cell_type": "code",
   "execution_count": 11,
   "id": "749269a6-20e8-4656-b58a-729b73d0c901",
   "metadata": {},
   "outputs": [
    {
     "name": "stdout",
     "output_type": "stream",
     "text": [
      "4\n",
      "100\n",
      "8\n",
      "8.5\n",
      "25\n",
      "32\n"
     ]
    }
   ],
   "source": [
    "print(2+2)\n",
    "print(50+50)\n",
    "print(17 // 2)\n",
    "print(17 / 2 )\n",
    "print(5**2)\n",
    "print(2**5)"
   ]
  },
  {
   "cell_type": "code",
   "execution_count": null,
   "id": "72440f2b-01f3-42a0-9901-13c66f5d9e4f",
   "metadata": {},
   "outputs": [],
   "source": [
    "variable"
   ]
  },
  {
   "cell_type": "code",
   "execution_count": 12,
   "id": "6b5b8d60-acee-4d4c-9b39-402f1cc12f28",
   "metadata": {},
   "outputs": [
    {
     "name": "stdout",
     "output_type": "stream",
     "text": [
      "300\n"
     ]
    }
   ],
   "source": [
    "tinggi = 20\n",
    "panjang = 15\n",
    "\n",
    "print(tinggi * panjang)"
   ]
  },
  {
   "cell_type": "code",
   "execution_count": 13,
   "id": "9015b756-a52d-430e-9333-e2d13b820925",
   "metadata": {},
   "outputs": [
    {
     "name": "stdout",
     "output_type": "stream",
     "text": [
      "14.0\n"
     ]
    }
   ],
   "source": [
    "print(4 * 3.75 - 1)"
   ]
  },
  {
   "cell_type": "code",
   "execution_count": null,
   "id": "1442068d-54fd-42df-98ed-8c17a08e2501",
   "metadata": {},
   "outputs": [],
   "source": [
    "Strings/ type tanda petik"
   ]
  },
  {
   "cell_type": "code",
   "execution_count": 14,
   "id": "81f273a2-81de-43dd-a99d-276aa83dcfb7",
   "metadata": {},
   "outputs": [
    {
     "data": {
      "text/plain": [
       "'spam eggs'"
      ]
     },
     "execution_count": 14,
     "metadata": {},
     "output_type": "execute_result"
    }
   ],
   "source": [
    "'spam eggs'"
   ]
  },
  {
   "cell_type": "code",
   "execution_count": 15,
   "id": "5714ce40-5837-479e-ad97-af6dc63ea758",
   "metadata": {},
   "outputs": [
    {
     "data": {
      "text/plain": [
       "\"doesn't\""
      ]
     },
     "execution_count": 15,
     "metadata": {},
     "output_type": "execute_result"
    }
   ],
   "source": [
    "'doesn\\'t'"
   ]
  },
  {
   "cell_type": "code",
   "execution_count": 16,
   "id": "0ff2189b-fd01-49af-8521-381d8329712c",
   "metadata": {},
   "outputs": [
    {
     "data": {
      "text/plain": [
       "\"doesn't\""
      ]
     },
     "execution_count": 16,
     "metadata": {},
     "output_type": "execute_result"
    }
   ],
   "source": [
    "\"doesn't\""
   ]
  },
  {
   "cell_type": "code",
   "execution_count": 17,
   "id": "209be092-082f-4f1b-a2eb-86da9b87ffdf",
   "metadata": {},
   "outputs": [
    {
     "data": {
      "text/plain": [
       "'\"Yes,\" they said.'"
      ]
     },
     "execution_count": 17,
     "metadata": {},
     "output_type": "execute_result"
    }
   ],
   "source": [
    "'\"Yes,\" they said.'"
   ]
  },
  {
   "cell_type": "code",
   "execution_count": 18,
   "id": "5cfcd06d-9ef1-4fb9-a83a-4b3b4ebccdf0",
   "metadata": {},
   "outputs": [
    {
     "data": {
      "text/plain": [
       "'\"Yes,\" they said.'"
      ]
     },
     "execution_count": 18,
     "metadata": {},
     "output_type": "execute_result"
    }
   ],
   "source": [
    "\"\\\"Yes,\\\" they said.\""
   ]
  },
  {
   "cell_type": "code",
   "execution_count": 19,
   "id": "98b057db-4850-47ee-af1d-1cd2d2906a2d",
   "metadata": {},
   "outputs": [
    {
     "data": {
      "text/plain": [
       "'\"Isn\\'t,\" they said.'"
      ]
     },
     "execution_count": 19,
     "metadata": {},
     "output_type": "execute_result"
    }
   ],
   "source": [
    "'\"Isn\\'t,\" they said.'"
   ]
  },
  {
   "cell_type": "code",
   "execution_count": 20,
   "id": "1cbfa2a5-a487-47c1-9073-abcf62439157",
   "metadata": {},
   "outputs": [
    {
     "name": "stdout",
     "output_type": "stream",
     "text": [
      "\"Isn't,\" they said.\n"
     ]
    }
   ],
   "source": [
    "print('\"Isn\\'t,\" they said.')"
   ]
  },
  {
   "cell_type": "code",
   "execution_count": 28,
   "id": "b1ef1c21-0754-45dd-898a-a526ccf56a86",
   "metadata": {},
   "outputs": [
    {
     "name": "stdout",
     "output_type": "stream",
     "text": [
      "First line.\n",
      "Second line.\n"
     ]
    }
   ],
   "source": [
    "s = 'First line.\\nSecond line.'\n",
    "print(s)\n"
   ]
  },
  {
   "cell_type": "code",
   "execution_count": 29,
   "id": "36e4a979-f593-4c8b-be86-a8f7a3985e24",
   "metadata": {},
   "outputs": [
    {
     "name": "stdout",
     "output_type": "stream",
     "text": [
      "C:\\some\n",
      "ame\n",
      "C:\\some\\name\n"
     ]
    }
   ],
   "source": [
    "print('C:\\some\\name')\n",
    "print(r'C:\\some\\name')"
   ]
  },
  {
   "cell_type": "code",
   "execution_count": null,
   "id": "25e5c513-7053-4417-8608-c82bf01c025d",
   "metadata": {},
   "outputs": [],
   "source": [
    "penambahan string dengan angka"
   ]
  },
  {
   "cell_type": "code",
   "execution_count": 30,
   "id": "21e6833f-a02f-400c-a090-e3988ef96e40",
   "metadata": {},
   "outputs": [
    {
     "data": {
      "text/plain": [
       "'manmanmansip'"
      ]
     },
     "execution_count": 30,
     "metadata": {},
     "output_type": "execute_result"
    }
   ],
   "source": [
    "3 * 'man' + 'sip'"
   ]
  },
  {
   "cell_type": "code",
   "execution_count": null,
   "id": "81fa8374-9733-400c-9b1a-7ec861f79149",
   "metadata": {},
   "outputs": [],
   "source": [
    "Menghitung kata"
   ]
  },
  {
   "cell_type": "code",
   "execution_count": 39,
   "id": "085a5962-bedb-447d-bb50-bc7131d89fa9",
   "metadata": {},
   "outputs": [
    {
     "name": "stdout",
     "output_type": "stream",
     "text": [
      "p\n",
      "n\n",
      "n\n",
      "o\n",
      "pytho\n",
      "on\n",
      "\n"
     ]
    }
   ],
   "source": [
    "word = 'python'\n",
    "print(word[0]) #posisi ke index-0\n",
    "print(word[5]) #posisi ke index-5\n",
    "print(word[-1]) #posisi ke index-0 dari belakang\n",
    "print(word[-2]) #posisi ke index-1 dari belakang\n",
    "print(word[:5]) #menyatukan perkata sesuai kalimat\n",
    "print(word[4:42])#\n",
    "print(word[42:])"
   ]
  },
  {
   "cell_type": "code",
   "execution_count": null,
   "id": "62e93fc8-f3d2-40a4-81b7-0ab6382d655e",
   "metadata": {},
   "outputs": [],
   "source": [
    "Menghitung panjang kata"
   ]
  },
  {
   "cell_type": "code",
   "execution_count": 40,
   "id": "fce29abf-e7f6-46e9-8b09-814c8bb48d96",
   "metadata": {},
   "outputs": [
    {
     "data": {
      "text/plain": [
       "6"
      ]
     },
     "execution_count": 40,
     "metadata": {},
     "output_type": "execute_result"
    }
   ],
   "source": [
    "len(word)"
   ]
  },
  {
   "cell_type": "code",
   "execution_count": null,
   "id": "007ccc67-9ef8-4ea9-b405-309c8e4acae0",
   "metadata": {},
   "outputs": [],
   "source": [
    "Mengganti huruf depan dari kata tertentu"
   ]
  },
  {
   "cell_type": "code",
   "execution_count": 41,
   "id": "e01aa9cf-d803-48c9-b820-c5c1bccc2b24",
   "metadata": {},
   "outputs": [
    {
     "name": "stdout",
     "output_type": "stream",
     "text": [
      "Hython\n"
     ]
    }
   ],
   "source": [
    "huruf_ganti = 'H' + word[1:]\n",
    "print(huruf_ganti)"
   ]
  },
  {
   "cell_type": "code",
   "execution_count": null,
   "id": "e5a1240e-6c69-4111-822f-025c7a9c46b8",
   "metadata": {},
   "outputs": [],
   "source": [
    "List"
   ]
  },
  {
   "cell_type": "code",
   "execution_count": 43,
   "id": "776d9abd-0271-41b0-b70a-0cd3748823fb",
   "metadata": {},
   "outputs": [
    {
     "data": {
      "text/plain": [
       "4"
      ]
     },
     "execution_count": 43,
     "metadata": {},
     "output_type": "execute_result"
    }
   ],
   "source": [
    "angka_list = [1, 4, 9, 16, 25]\n",
    "angka_list[1]"
   ]
  },
  {
   "cell_type": "code",
   "execution_count": null,
   "id": "7ac6fdb7-b85d-4579-8c5d-e149bbe3f81f",
   "metadata": {},
   "outputs": [],
   "source": [
    "penambahan 2 list menjadi 1"
   ]
  },
  {
   "cell_type": "code",
   "execution_count": 44,
   "id": "f4b6bed9-9e17-4cff-8bdc-1d2186516619",
   "metadata": {},
   "outputs": [
    {
     "data": {
      "text/plain": [
       "[1, 4, 9, 16, 25, 36, 49, 64, 81, 100]"
      ]
     },
     "execution_count": 44,
     "metadata": {},
     "output_type": "execute_result"
    }
   ],
   "source": [
    "angka_list + [36, 49, 64, 81, 100]"
   ]
  },
  {
   "cell_type": "code",
   "execution_count": null,
   "id": "dd62ba77-11a7-4dd6-9a92-68de9972cef2",
   "metadata": {},
   "outputs": [],
   "source": [
    "mengganti data dalam list"
   ]
  },
  {
   "cell_type": "code",
   "execution_count": 47,
   "id": "d8cf6ea6-4ced-4792-89fb-22b92bcbc384",
   "metadata": {},
   "outputs": [
    {
     "name": "stdout",
     "output_type": "stream",
     "text": [
      "data awal :  [1, 8, 27, 65, 125]\n",
      "data berubah di index-3 [1, 8, 27, 64, 125]\n"
     ]
    }
   ],
   "source": [
    "list_baru = [1, 8, 27, 65, 125]\n",
    "print(f'data awal : ',list_baru) \n",
    "list_baru[3] = 64\n",
    "print(f'data berubah di index-3',list_baru)"
   ]
  },
  {
   "cell_type": "code",
   "execution_count": null,
   "id": "27188738-d38e-4d17-84ba-4f6b2adb2e9a",
   "metadata": {},
   "outputs": [],
   "source": [
    "Bab 4"
   ]
  },
  {
   "cell_type": "code",
   "execution_count": null,
   "id": "ff72eb9d",
   "metadata": {},
   "outputs": [],
   "source": [
    "For"
   ]
  },
  {
   "cell_type": "code",
   "execution_count": 3,
   "id": "53de6d4c",
   "metadata": {},
   "outputs": [
    {
     "name": "stdout",
     "output_type": "stream",
     "text": [
      "kali 4\n",
      "mantap 6\n",
      "jayaterus 9\n"
     ]
    }
   ],
   "source": [
    "kata = ['kali', 'mantap', 'jayaterus']\n",
    "for k in kata:\n",
    "    print(k, len(k))"
   ]
  },
  {
   "cell_type": "code",
   "execution_count": null,
   "id": "58cb873e",
   "metadata": {},
   "outputs": [],
   "source": [
    "Function / Fungsi"
   ]
  },
  {
   "cell_type": "code",
   "execution_count": 4,
   "id": "d0115853",
   "metadata": {},
   "outputs": [
    {
     "name": "stdout",
     "output_type": "stream",
     "text": [
      "0 1 1 2 3 5 8 13 21 34 55 89 144 233 377 610 987 1597 \n",
      "None\n"
     ]
    },
    {
     "data": {
      "text/plain": [
       "<function __main__.fib(n)>"
      ]
     },
     "execution_count": 4,
     "metadata": {},
     "output_type": "execute_result"
    }
   ],
   "source": [
    "\n",
    "\n",
    "def fib(n):    # write Fibonacci series up to n\n",
    "    \"\"\"Print a Fibonacci series up to n.\"\"\"\n",
    "    a, b = 0, 1\n",
    "    while a < n:\n",
    "        print(a, end=' ')\n",
    "        a, b = b, a+b\n",
    "    print()\n",
    "\n",
    "# Now call the function we just defined:\n",
    "print(fib(2000))\n",
    "fib"
   ]
  },
  {
   "cell_type": "code",
   "execution_count": null,
   "id": "126ed60a",
   "metadata": {},
   "outputs": [],
   "source": [
    "Lambda Expressions"
   ]
  },
  {
   "cell_type": "code",
   "execution_count": 5,
   "id": "d89a34f1",
   "metadata": {},
   "outputs": [
    {
     "name": "stdout",
     "output_type": "stream",
     "text": [
      "42\n",
      "43\n"
     ]
    }
   ],
   "source": [
    "\n",
    "\n",
    "def make_incrementor(n):\n",
    "    return lambda x: x + n\n",
    "\n",
    "f = make_incrementor(42)\n",
    "print(f(0))\n",
    "print(f(1))"
   ]
  },
  {
   "cell_type": "code",
   "execution_count": null,
   "id": "03dba819",
   "metadata": {},
   "outputs": [],
   "source": []
  }
 ],
 "metadata": {
  "kernelspec": {
   "display_name": "Python 3 (ipykernel)",
   "language": "python",
   "name": "python3"
  },
  "language_info": {
   "codemirror_mode": {
    "name": "ipython",
    "version": 3
   },
   "file_extension": ".py",
   "mimetype": "text/x-python",
   "name": "python",
   "nbconvert_exporter": "python",
   "pygments_lexer": "ipython3",
   "version": "3.8.12"
  }
 },
 "nbformat": 4,
 "nbformat_minor": 5
}
