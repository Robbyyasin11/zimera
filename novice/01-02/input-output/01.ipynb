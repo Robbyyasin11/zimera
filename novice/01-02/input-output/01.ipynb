{
 "cells": [
  {
   "cell_type": "code",
   "execution_count": 1,
   "id": "c96da2e5-28c8-4261-b7c5-76af19f00464",
   "metadata": {},
   "outputs": [
    {
     "name": "stdout",
     "output_type": "stream",
     "text": [
      "Results of the 2016 Referendum\n"
     ]
    }
   ],
   "source": [
    "year = 2016\n",
    "event = 'Referendum'\n",
    "print(f'Results of the {year} {event}')"
   ]
  },
  {
   "cell_type": "code",
   "execution_count": null,
   "id": "2c453ad6-4163-4233-b9c6-83735bb63de3",
   "metadata": {},
   "outputs": [],
   "source": []
  }
 ],
 "metadata": {
  "kernelspec": {
   "display_name": "Python 3 (ipykernel)",
   "language": "python",
   "name": "python3"
  },
  "language_info": {
   "codemirror_mode": {
    "name": "ipython",
    "version": 3
   },
   "file_extension": ".py",
   "mimetype": "text/x-python",
   "name": "python",
   "nbconvert_exporter": "python",
   "pygments_lexer": "ipython3",
   "version": "3.8.12"
  }
 },
 "nbformat": 4,
 "nbformat_minor": 5
}
